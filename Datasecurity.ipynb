{
  "nbformat": 4,
  "nbformat_minor": 0,
  "metadata": {
    "colab": {
      "name": "Datasecurity.ipynb",
      "provenance": [],
      "collapsed_sections": []
    },
    "kernelspec": {
      "name": "python3",
      "display_name": "Python 3"
    },
    "language_info": {
      "name": "python"
    }
  },
  "cells": [
    {
      "cell_type": "code",
      "execution_count": null,
      "metadata": {
        "colab": {
          "base_uri": "https://localhost:8080/"
        },
        "id": "ctdDGwQcYqkv",
        "outputId": "46fb4202-b28e-415e-bdbc-3eaf6ead11b0"
      },
      "outputs": [
        {
          "output_type": "stream",
          "name": "stdout",
          "text": [
            "Collecting docx2txt\n",
            "  Downloading docx2txt-0.8.tar.gz (2.8 kB)\n",
            "Building wheels for collected packages: docx2txt\n",
            "  Building wheel for docx2txt (setup.py) ... \u001b[?25l\u001b[?25hdone\n",
            "  Created wheel for docx2txt: filename=docx2txt-0.8-py3-none-any.whl size=3980 sha256=be33b2a4a9af89bc334b79260aa96cda14edc9a805549cdfc460cbc64a7339a9\n",
            "  Stored in directory: /root/.cache/pip/wheels/b7/20/b2/473e3aea9a0c0d3e7b2f7bd81d06d0794fec12752733d1f3a8\n",
            "Successfully built docx2txt\n",
            "Installing collected packages: docx2txt\n",
            "Successfully installed docx2txt-0.8\n",
            "Collecting cryptography\n",
            "  Downloading cryptography-36.0.2-cp36-abi3-manylinux_2_24_x86_64.whl (3.6 MB)\n",
            "\u001b[K     |████████████████████████████████| 3.6 MB 8.4 MB/s \n",
            "\u001b[?25hRequirement already satisfied: cffi>=1.12 in /usr/local/lib/python3.7/dist-packages (from cryptography) (1.15.0)\n",
            "Requirement already satisfied: pycparser in /usr/local/lib/python3.7/dist-packages (from cffi>=1.12->cryptography) (2.21)\n",
            "Installing collected packages: cryptography\n",
            "Successfully installed cryptography-36.0.2\n",
            "Collecting pycryptodome==3.4.3\n",
            "  Downloading pycryptodome-3.4.3.tar.gz (6.5 MB)\n",
            "\u001b[K     |████████████████████████████████| 6.5 MB 6.4 MB/s \n",
            "\u001b[?25hBuilding wheels for collected packages: pycryptodome\n",
            "  Building wheel for pycryptodome (setup.py) ... \u001b[?25l\u001b[?25hdone\n",
            "  Created wheel for pycryptodome: filename=pycryptodome-3.4.3-cp37-cp37m-linux_x86_64.whl size=6814301 sha256=d82acf316d8a92dbfe306d8bc49103cc14ea29249772036b5571cc2b449ef4b0\n",
            "  Stored in directory: /root/.cache/pip/wheels/f3/83/08/de4131c0bbbbafa5bf3bd64cb0e86d40bed3ee43f3ff307112\n",
            "Successfully built pycryptodome\n",
            "Installing collected packages: pycryptodome\n",
            "Successfully installed pycryptodome-3.4.3\n"
          ]
        }
      ],
      "source": [
        "!pip install docx2txt\n",
        "!pip install cryptography\n",
        "!pip install pycryptodome==3.4.3\n"
      ]
    },
    {
      "cell_type": "code",
      "source": [
        "from cryptography.hazmat.primitives.ciphers import Cipher, algorithms, modes\n",
        "from cryptography.hazmat.backends import default_backend\n",
        "import hashlib , json, string, random\n",
        "from Crypto.PublicKey import RSA\n",
        "from Crypto.Util.Padding import pad, unpad\n",
        "from binascii import hexlify , unhexlify\n",
        "from Crypto.Cipher import Blowfish, PKCS1_OAEP, AES\n"
      ],
      "metadata": {
        "id": "hQMdeGHmYugF"
      },
      "execution_count": null,
      "outputs": []
    },
    {
      "cell_type": "code",
      "source": [
        "import docx2txt\n",
        "\n",
        "# Passing docx file to process function\n",
        "text = docx2txt.process(\"lstm.docx\")\n",
        "\n",
        "# Saving content inside docx file into output.txt file\n",
        "with open(\"output.txt\", \"w\") as text_file:\n",
        "\tprint(text, file=text_file)"
      ],
      "metadata": {
        "id": "_CSnccY4Y1BY"
      },
      "execution_count": null,
      "outputs": []
    },
    {
      "cell_type": "code",
      "source": [
        "def Segment():\n",
        "  f=open('output.txt','r')\n",
        "  con=f.read()\n",
        "  f.close()\n",
        "  count=0\n",
        "  for char in con:\n",
        "\t  count+=1\n",
        "  k=0\n",
        "  limit=int(count/3)\n",
        "  for i in range(0,3):\n",
        "\t  name=str(i+1)+\".txt\"\n",
        "\t  f=open(name,'w')\n",
        "\t  ctr=0\n",
        "\t  for j in range(k,count):\n",
        "\t\t  k+=1\n",
        "\t\t  f.write(con[j])\n",
        "\t\t  ctr+=1\n",
        "\t\t  if(ctr==limit and i!=2):\n",
        "\t\t\t  f.close()\n",
        "\t\t\t  break\n",
        "\t  f.close()\n",
        "Segment()"
      ],
      "metadata": {
        "id": "xAeKZ31uY15L"
      },
      "execution_count": null,
      "outputs": []
    },
    {
      "cell_type": "code",
      "source": [
        "def key_generator(size, case=\"default\", punctuations=\"required\"):\n",
        "    if case==\"default\" and punctuations==\"required\":\n",
        "        return ''.join(random.choices(string.ascii_uppercase + string.ascii_lowercase + string.digits + string.punctuation, k = size))\n",
        "    elif case==\"upper-case-only\" and punctuations==\"required\":\n",
        "        return ''.join(random.choices(string.ascii_uppercase + string.digits + string.punctuation, k = size))\n",
        "    elif case==\"lower-case-only\"  and punctuations==\"required\":\n",
        "        return ''.join(random.choices(string.ascii_lowercase + string.digits + string.punctuation, k = size))\n",
        "    elif case==\"default\" and punctuations==\"none\":\n",
        "        return ''.join(random.choices(string.ascii_uppercase + string.digits + string.ascii_lowercase, k = size))\n",
        "    elif case==\"lower-case-only\"  and punctuations==\"none\":\n",
        "        return ''.join(random.choices(string.ascii_lowercase + string.digits , k = size))\n",
        "    elif case==\"upper-case-only\" and punctuations==\"none\":\n",
        "        return ''.join(random.choices(string.ascii_uppercase + string.digits, k = size))"
      ],
      "metadata": {
        "id": "VZXixnnSZBZS"
      },
      "execution_count": null,
      "outputs": []
    },
    {
      "cell_type": "code",
      "source": [
        "bfkey=key_generator(size=16).encode()\n",
        "aeskey=key_generator(size=18).encode()\n",
        "tripplesdeskey=key_generator(size=24).encode()\n",
        "print(bfkey)\n",
        "print(aeskey)\n",
        "print(tripplesdeskey)"
      ],
      "metadata": {
        "colab": {
          "base_uri": "https://localhost:8080/"
        },
        "id": "ekWFWImZCbAm",
        "outputId": "30bc58d9-ee5a-41cd-97fd-4b15de302aae"
      },
      "execution_count": null,
      "outputs": [
        {
          "output_type": "stream",
          "name": "stdout",
          "text": [
            "b\"scE'|oMWRRq@vjaG\"\n",
            "b'KpyvW{WNEC>oDAYE<!'\n",
            "b'(jN0s_WrSUuAL)V*R^M=fC_P'\n"
          ]
        }
      ]
    },
    {
      "cell_type": "code",
      "source": [
        "import os\n",
        "def generateIV():\n",
        "\tiv1 = os.urandom(16)\n",
        "\tiv2 = os.urandom(8)\n",
        "\tf=open('IV.txt','wb')\n",
        "\tf.write(iv1)\n",
        "\tf.write(b\"::::\")\n",
        "\tf.write(iv2)\n",
        "\tf.close()\n",
        "\treturn iv1,iv2\n",
        "iv1,iv2=generateIV()\n",
        "print(iv1)\n",
        "print(iv2)"
      ],
      "metadata": {
        "id": "lLcgAC9HZCbG",
        "colab": {
          "base_uri": "https://localhost:8080/"
        },
        "outputId": "b75f5204-8756-4f12-e718-750a08994278"
      },
      "execution_count": null,
      "outputs": [
        {
          "output_type": "stream",
          "name": "stdout",
          "text": [
            "b'\\xf8+\\xa9\\x04P5d\\x06F\\x14x\\x86P\\xc6Nt'\n",
            "b'\\xe3\\x13\\x85\\x0f_83\\xbc'\n"
          ]
        }
      ]
    },
    {
      "cell_type": "code",
      "source": [
        "def BlowFish(key,iv):\n",
        "    f=open(\"1.txt\",\"r\")   \n",
        "    content=f.read()\n",
        "    f.close()\n",
        "    content=content.encode()\n",
        "    b=len(content)\n",
        "    if(b%8!=0):\n",
        "        while(b%8!=0):\n",
        "            content+=\" \".encode()\n",
        "            b=len(content)\n",
        "    backend = default_backend()\n",
        "    cipher = Cipher(algorithms.Blowfish(key), modes.CBC(iv), backend=backend)\n",
        "    encryptor = cipher.encryptor()\n",
        "    cont = encryptor.update(content) + encryptor.finalize()\n",
        "    open(os.path.join(\"1.txt\"),\"w\").close()\n",
        "    f=open(os.path.join(\"1e.txt\"),\"wb\")\n",
        "    f.write(cont);\n",
        "    f.close();"
      ],
      "metadata": {
        "id": "Ca8H1DwlZFZW"
      },
      "execution_count": null,
      "outputs": []
    },
    {
      "cell_type": "code",
      "source": [
        "blowfish_key =  key_generator(size=16).encode()\n",
        "#blowfish_cipher = Blowfish.new(blowfish_key, Blowfish.MODE_CBC)\n",
        "BlowFish(blowfish_key,iv2)\n",
        "print(blowfish_key)"
      ],
      "metadata": {
        "colab": {
          "base_uri": "https://localhost:8080/"
        },
        "id": "4hKLN-_VZMZa",
        "outputId": "253a05b6-6a31-430f-feae-9aae39696fc1"
      },
      "execution_count": null,
      "outputs": [
        {
          "output_type": "stream",
          "name": "stdout",
          "text": [
            "b'N)QFq%H!{.G#t-2w'\n"
          ]
        }
      ]
    },
    {
      "cell_type": "code",
      "source": [
        "def AES(key,iv):\n",
        "    f=open(\"2.txt\",\"r\")\n",
        "    content=f.read()\n",
        "    f.close()\n",
        "    content=content.encode()\n",
        "    b=len(content)\n",
        "    if(b%16!=0):\n",
        "        while(b%16!=0):\n",
        "            content+=\" \".encode()\n",
        "            b=len(content)\n",
        "    backend = default_backend()\n",
        "    cipher = Cipher(algorithms.AES(key), modes.CBC(iv), backend=backend)\n",
        "    encryptor = cipher.encryptor()\n",
        "    cont = encryptor.update(content) + encryptor.finalize()\n",
        "    open(\"2.txt\",\"wb\").close()\n",
        "    f=open(\"2e.txt\",\"wb\")\n",
        "    f.write(cont)\n",
        "    f.close();"
      ],
      "metadata": {
        "id": "mBjMXboiZNjk"
      },
      "execution_count": null,
      "outputs": []
    },
    {
      "cell_type": "code",
      "source": [
        "aes_key =  key_generator(size=16).encode()\n",
        "AES(aes_key,iv1)\n",
        "print(aes_key)"
      ],
      "metadata": {
        "colab": {
          "base_uri": "https://localhost:8080/"
        },
        "id": "QsZPOUa8ZTRT",
        "outputId": "bb8e9231-14af-49ec-bf8a-4cedb4cccc58"
      },
      "execution_count": null,
      "outputs": [
        {
          "output_type": "stream",
          "name": "stdout",
          "text": [
            "b'%:f!PM$,-R`)x[u\"'\n"
          ]
        }
      ]
    },
    {
      "cell_type": "code",
      "source": [
        "def TrippleDES(key,iv):\n",
        "    f=open(\"3.txt\",\"r\");\n",
        "    content=f.read();\n",
        "    f.close();\n",
        "    content=content.encode()\n",
        "    b=len(content);\n",
        "    if(b%8!=0):\n",
        "        while(b%8!=0):\n",
        "            content+=\" \".encode()\n",
        "            b=len(content);\n",
        "    backend = default_backend();\n",
        "    cipher = Cipher(algorithms.TripleDES(key), modes.CBC(iv), backend=backend);\n",
        "    encryptor = cipher.encryptor();\n",
        "    cont = encryptor.update(content) + encryptor.finalize();\n",
        "    open(\"2.txt\",\"w\").close();\n",
        "    f=open(\"3e.txt\",\"wb\");\n",
        "    f.write(cont);\n",
        "    f.close();\n"
      ],
      "metadata": {
        "id": "o7lT9ZrSZXAt"
      },
      "execution_count": null,
      "outputs": []
    },
    {
      "cell_type": "code",
      "source": [
        "Tdes_key =  key_generator(size=16).encode()\n",
        "TrippleDES(Tdes_key,iv2)\n",
        "print(Tdes_key)"
      ],
      "metadata": {
        "id": "6oQXJh7fZXzv",
        "colab": {
          "base_uri": "https://localhost:8080/"
        },
        "outputId": "9324d0cb-6909-4e9e-ba22-c3793d5acd7c"
      },
      "execution_count": null,
      "outputs": [
        {
          "output_type": "stream",
          "name": "stdout",
          "text": [
            "b\"puO@-/ECY6-bqLq'\"\n"
          ]
        }
      ]
    },
    {
      "cell_type": "code",
      "source": [
        "from Crypto.Cipher import Blowfish, PKCS1_OAEP, AES\n",
        "\n",
        "password = 'vicky' #input('Enter Password: ')\n",
        "log_password_length = len(password)\n",
        "\n",
        "\n",
        "hash = hashlib.sha1()\n",
        "hash.update(password.encode())\n",
        "password_encryption_cipher = AES.new( hash.hexdigest()[:16].encode() , AES.MODE_CBC, iv= '16bitAESInitVect'.encode())\n",
        "\n",
        "# Dictionary of Keys\n",
        "keys_iv = {}\n",
        "\n",
        "keys_iv['blowfish_iv'] = hexlify(iv2).decode()\n",
        "keys_iv['blowfish_key'] = hexlify(blowfish_key).decode()\n",
        "keys_iv['aes_iv'] = hexlify(iv1).decode()\n",
        "keys_iv['aes_key'] = hexlify(aes_key).decode()\n",
        "keys_iv['Tdes_iv']=hexlify(iv2).decode()\n",
        "keys_iv['Tdes_key']=hexlify(Tdes_key).decode()\n",
        "print(keys_iv['Tdes_iv'])"
      ],
      "metadata": {
        "colab": {
          "base_uri": "https://localhost:8080/"
        },
        "id": "19_IvlsVZewH",
        "outputId": "6ed6d32c-7cc7-46e2-f0c5-f70a6c477eaf"
      },
      "execution_count": null,
      "outputs": [
        {
          "output_type": "stream",
          "name": "stdout",
          "text": [
            "72f2b81d46e1b7b8\n"
          ]
        }
      ]
    },
    {
      "cell_type": "code",
      "source": [
        "encrypted_keys_and_iv = hexlify(password_encryption_cipher.encrypt(pad(json.dumps(keys_iv).encode(), AES.block_size)))\n",
        "print(encrypted_keys_and_iv)"
      ],
      "metadata": {
        "id": "-guX9B5oZqtE",
        "colab": {
          "base_uri": "https://localhost:8080/"
        },
        "outputId": "88b10595-6922-4e41-cfa8-33b24c79be91"
      },
      "execution_count": null,
      "outputs": [
        {
          "output_type": "stream",
          "name": "stdout",
          "text": [
            "b'94f775e1e531395761fe02b26ef9662a4ec1c60fb82226b645b0114ed71b905238088cd36cfc5fe07e749975935c28991e7ccca55b90dbe69eb40746e6c3b1d2ed6e7483c18a3a00f526192d9bd2fe3e0ebef37c22437fe448c7fa49bcbdca8f59d27bb7a12f6f8c5a99e4ae876b7a691571b1ff6acf18792cad198c306cb232f65f4d69aa13ad2255308791c7d1c779192d73530db422e7434cb765c6e0266baac60e2c03bbb80bf8144c0384b6a4d4283dc90cb75abefb241157f8fcf7367e7905e796d48abc6bffb586579d9028afa8f7d277e2bace389f5351e60aa58bccd1a2ab62a38dc9be61b6c30890f76a7b83a8b109b835b082b17b907cc33bb8740257a03b787445a22add9290982a2769'\n"
          ]
        }
      ]
    },
    {
      "cell_type": "code",
      "source": [
        "import cv2\n",
        "import numpy as np\n",
        "def to_bin(data):\n",
        "    \"\"\"Convert `data` to binary format as string\"\"\"\n",
        "    if isinstance(data, str):\n",
        "        return ''.join([ format(ord(i), \"08b\") for i in data ])\n",
        "    elif isinstance(data, bytes) or isinstance(data, np.ndarray):\n",
        "        return [ format(i, \"08b\") for i in data ]\n",
        "    elif isinstance(data, int) or isinstance(data, np.uint8):\n",
        "        return format(data, \"08b\")\n",
        "    else:\n",
        "        raise TypeError(\"Type not supported.\")"
      ],
      "metadata": {
        "id": "28T4PiaFe2ld"
      },
      "execution_count": null,
      "outputs": []
    },
    {
      "cell_type": "code",
      "source": [
        "def encode_lsb(image_name, secret_data):\n",
        "    # read the image\n",
        "    image = cv2.imread(image_name)\n",
        "    # maximum bytes to encode\n",
        "    n_bytes = image.shape[0] * image.shape[1] * 3 // 8\n",
        "    print(\"[*] Maximum bytes to encode:\", n_bytes)\n",
        "    if len(secret_data) > n_bytes:\n",
        "        raise ValueError(\"[!] Insufficient bytes, need bigger image or less data.\")\n",
        "    print(\"[*] Encoding data...\")\n",
        "    # add stopping criteria\n",
        "    secret_data += \"=====\"\n",
        "    data_index = 0\n",
        "    # convert data to binary\n",
        "    binary_secret_data = to_bin(secret_data)\n",
        "    # size of data to hide\n",
        "    data_len = len(binary_secret_data)\n",
        "    for row in image:\n",
        "        for pixel in row:\n",
        "            # convert RGB values to binary format\n",
        "            r, g, b = to_bin(pixel)\n",
        "            # modify the least significant bit only if there is still data to store\n",
        "            if data_index < data_len:\n",
        "                # least significant red pixel bit\n",
        "                pixel[0] = int(r[:-1] + binary_secret_data[data_index], 2)\n",
        "                data_index += 1\n",
        "            if data_index < data_len:\n",
        "                # least significant green pixel bit\n",
        "                pixel[1] = int(g[:-1] + binary_secret_data[data_index], 2)\n",
        "                data_index += 1\n",
        "            if data_index < data_len:\n",
        "                # least significant blue pixel bit\n",
        "                pixel[2] = int(b[:-1] + binary_secret_data[data_index], 2)\n",
        "                data_index += 1\n",
        "            # if data is encoded, just break out of the loop\n",
        "            if data_index >= data_len:\n",
        "                break\n",
        "    return image"
      ],
      "metadata": {
        "id": "n8Ka1Z4De30B"
      },
      "execution_count": null,
      "outputs": []
    },
    {
      "cell_type": "code",
      "source": [
        "def decode_lsb(image_name):\n",
        "    print(\"[+] Decoding...\")\n",
        "    # read the image\n",
        "    image = cv2.imread(image_name)\n",
        "    binary_data = \"\"\n",
        "    for row in image:\n",
        "        for pixel in row:\n",
        "            r, g, b = to_bin(pixel)\n",
        "            binary_data += r[-1]\n",
        "            binary_data += g[-1]\n",
        "            binary_data += b[-1]\n",
        "    # split by 8-bits\n",
        "    all_bytes = [ binary_data[i: i+8] for i in range(0, len(binary_data), 8) ]\n",
        "    # convert from bits to characters\n",
        "    decoded_data = \"\"\n",
        "    for byte in all_bytes:\n",
        "        decoded_data += chr(int(byte, 2))\n",
        "        if decoded_data[-5:] == \"=====\":\n",
        "            break\n",
        "    return decoded_data[:-5]"
      ],
      "metadata": {
        "id": "S2MqgtGxe4DB"
      },
      "execution_count": null,
      "outputs": []
    },
    {
      "cell_type": "code",
      "source": [
        "encoded_image = encode_lsb(\"cover.png\", encrypted_keys_and_iv.decode())"
      ],
      "metadata": {
        "colab": {
          "base_uri": "https://localhost:8080/"
        },
        "id": "xbSDqUwte40E",
        "outputId": "f076e07d-bcde-4586-abee-30782c6da94a"
      },
      "execution_count": null,
      "outputs": [
        {
          "output_type": "stream",
          "name": "stdout",
          "text": [
            "[*] Maximum bytes to encode: 18952\n",
            "[*] Encoding data...\n"
          ]
        }
      ]
    },
    {
      "cell_type": "code",
      "source": [
        "output_image = \"encoded_image.PNG\"\n",
        "cv2.imwrite(output_image, encoded_image)\n",
        "    # decode the secret data from the image\n",
        "decoded_data = decode_lsb(output_image)\n",
        "print(\"[+] Decoded data:\", decoded_data)\n",
        "unhide_encrypted_keys_and_iv=decoded_data.encode()"
      ],
      "metadata": {
        "colab": {
          "base_uri": "https://localhost:8080/"
        },
        "id": "URpYTWjEfJZE",
        "outputId": "f0bc0195-7f3c-44de-a497-d323d8d0f888"
      },
      "execution_count": null,
      "outputs": [
        {
          "output_type": "stream",
          "name": "stdout",
          "text": [
            "[+] Decoding...\n",
            "[+] Decoded data: 94f775e1e531395761fe02b26ef9662a4ec1c60fb82226b645b0114ed71b905238088cd36cfc5fe07e749975935c28991e7ccca55b90dbe69eb40746e6c3b1d2ed6e7483c18a3a00f526192d9bd2fe3e0ebef37c22437fe448c7fa49bcbdca8f59d27bb7a12f6f8c5a99e4ae876b7a691571b1ff6acf18792cad198c306cb232f65f4d69aa13ad2255308791c7d1c779192d73530db422e7434cb765c6e0266baac60e2c03bbb80bf8144c0384b6a4d4283dc90cb75abefb241157f8fcf7367e7905e796d48abc6bffb586579d9028afa8f7d277e2bace389f5351e60aa58bccd1a2ab62a38dc9be61b6c30890f76a7b83a8b109b835b082b17b907cc33bb8740257a03b787445a22add9290982a2769\n"
          ]
        }
      ]
    },
    {
      "cell_type": "code",
      "source": [
        "lsb_stegano_image = lsb.hide(\"cover.png\",encrypted_keys_and_iv.decode())\n",
        "lsb_stegano_image.save(\"stego_image.png\")"
      ],
      "metadata": {
        "colab": {
          "base_uri": "https://localhost:8080/",
          "height": 182
        },
        "id": "vSLoA3z_Zrq1",
        "outputId": "75a8b936-c944-4504-bf4d-e082e00f654d"
      },
      "execution_count": null,
      "outputs": [
        {
          "output_type": "error",
          "ename": "NameError",
          "evalue": "ignored",
          "traceback": [
            "\u001b[0;31m---------------------------------------------------------------------------\u001b[0m",
            "\u001b[0;31mNameError\u001b[0m                                 Traceback (most recent call last)",
            "\u001b[0;32m<ipython-input-20-777393d1441f>\u001b[0m in \u001b[0;36m<module>\u001b[0;34m()\u001b[0m\n\u001b[0;32m----> 1\u001b[0;31m \u001b[0mlsb_stegano_image\u001b[0m \u001b[0;34m=\u001b[0m \u001b[0mlsb\u001b[0m\u001b[0;34m.\u001b[0m\u001b[0mhide\u001b[0m\u001b[0;34m(\u001b[0m\u001b[0;34m\"cover.png\"\u001b[0m\u001b[0;34m,\u001b[0m\u001b[0mencrypted_keys_and_iv\u001b[0m\u001b[0;34m.\u001b[0m\u001b[0mdecode\u001b[0m\u001b[0;34m(\u001b[0m\u001b[0;34m)\u001b[0m\u001b[0;34m)\u001b[0m\u001b[0;34m\u001b[0m\u001b[0;34m\u001b[0m\u001b[0m\n\u001b[0m\u001b[1;32m      2\u001b[0m \u001b[0mlsb_stegano_image\u001b[0m\u001b[0;34m.\u001b[0m\u001b[0msave\u001b[0m\u001b[0;34m(\u001b[0m\u001b[0;34m\"stego_image.png\"\u001b[0m\u001b[0;34m)\u001b[0m\u001b[0;34m\u001b[0m\u001b[0;34m\u001b[0m\u001b[0m\n",
            "\u001b[0;31mNameError\u001b[0m: name 'lsb' is not defined"
          ]
        }
      ]
    },
    {
      "cell_type": "code",
      "source": [
        "unhide_encrypted_keys_and_iv = lsb.reveal(\"stego_image.png\").encode()\n",
        "print(unhide_encrypted_keys_and_iv)"
      ],
      "metadata": {
        "id": "ziMRDLg8Zucp",
        "colab": {
          "base_uri": "https://localhost:8080/",
          "height": 182
        },
        "outputId": "306ea325-db1e-4767-d954-7baedd1e6d66"
      },
      "execution_count": null,
      "outputs": [
        {
          "output_type": "error",
          "ename": "NameError",
          "evalue": "ignored",
          "traceback": [
            "\u001b[0;31m---------------------------------------------------------------------------\u001b[0m",
            "\u001b[0;31mNameError\u001b[0m                                 Traceback (most recent call last)",
            "\u001b[0;32m<ipython-input-20-c5e47ff8ea67>\u001b[0m in \u001b[0;36m<module>\u001b[0;34m()\u001b[0m\n\u001b[0;32m----> 1\u001b[0;31m \u001b[0munhide_encrypted_keys_and_iv\u001b[0m \u001b[0;34m=\u001b[0m \u001b[0mlsb\u001b[0m\u001b[0;34m.\u001b[0m\u001b[0mreveal\u001b[0m\u001b[0;34m(\u001b[0m\u001b[0;34m\"stego_image.png\"\u001b[0m\u001b[0;34m)\u001b[0m\u001b[0;34m.\u001b[0m\u001b[0mencode\u001b[0m\u001b[0;34m(\u001b[0m\u001b[0;34m)\u001b[0m\u001b[0;34m\u001b[0m\u001b[0;34m\u001b[0m\u001b[0m\n\u001b[0m\u001b[1;32m      2\u001b[0m \u001b[0mprint\u001b[0m\u001b[0;34m(\u001b[0m\u001b[0munhide_encrypted_keys_and_iv\u001b[0m\u001b[0;34m)\u001b[0m\u001b[0;34m\u001b[0m\u001b[0;34m\u001b[0m\u001b[0m\n",
            "\u001b[0;31mNameError\u001b[0m: name 'lsb' is not defined"
          ]
        }
      ]
    },
    {
      "cell_type": "code",
      "source": [
        "hash = hashlib.sha1()\n",
        "hash.update(password.encode())\n",
        "password_decryption_cipher = AES.new( hash.hexdigest()[:16].encode() , AES.MODE_CBC, iv= '16bitAESInitVect'.encode())\n",
        "\n",
        "decrypted_keys_iv = json.loads(unpad(password_decryption_cipher.decrypt(unhexlify(unhide_encrypted_keys_and_iv)), AES.block_size))\n",
        "\n",
        "#Initializations\n",
        "decryption_key_aes = unhexlify(decrypted_keys_iv['aes_key'])\n",
        "decryption_iv_aes = unhexlify(decrypted_keys_iv['aes_iv'])\n",
        "decryption_key_Tdes = unhexlify(decrypted_keys_iv['Tdes_key'])\n",
        "decryption_iv_Tdes = unhexlify(decrypted_keys_iv['Tdes_iv'])\n",
        "decryption_iv_blowfish = unhexlify(decrypted_keys_iv['blowfish_iv'])\n",
        "decryption_key_blowfish = unhexlify(decrypted_keys_iv['blowfish_key'])\n",
        "print(decryption_iv_Tdes)\n",
        "print(decryption_key_blowfish)\n"
      ],
      "metadata": {
        "colab": {
          "base_uri": "https://localhost:8080/"
        },
        "id": "ekna7ubnZ0Qf",
        "outputId": "bc061243-3310-4b14-d095-591b66bd219b"
      },
      "execution_count": null,
      "outputs": [
        {
          "output_type": "stream",
          "name": "stdout",
          "text": [
            "b'r\\xf2\\xb8\\x1dF\\xe1\\xb7\\xb8'\n",
            "b'hA(gpLqyi~qX]J1$'\n"
          ]
        }
      ]
    },
    {
      "cell_type": "code",
      "source": [
        "def DBlowFish(key,iv):\n",
        "    f=open(\"1e.txt\",\"rb\")\n",
        "    content=f.read()\n",
        "    f.close()\n",
        "    backend = default_backend()\n",
        "    cipher = Cipher(algorithms.Blowfish(key), modes.CBC(iv), backend=backend)\n",
        "    decryptor = cipher.decryptor()\n",
        "    content=decryptor.update(content) + decryptor.finalize()\n",
        "    f=open(\"1d.txt\",\"wb\")\n",
        "    f.write(content)\n",
        "    f.close()\n"
      ],
      "metadata": {
        "id": "xCEan1nsZ5QL"
      },
      "execution_count": null,
      "outputs": []
    },
    {
      "cell_type": "code",
      "source": [
        "DBlowFish(decryption_key_blowfish,decryption_iv_blowfish)\n"
      ],
      "metadata": {
        "id": "JJ8Y1SNJZ73U"
      },
      "execution_count": null,
      "outputs": []
    },
    {
      "cell_type": "code",
      "source": [
        "def DAES(key,iv):\n",
        "    f=open(\"2e.txt\",\"rb\")\n",
        "    content=f.read()\n",
        "    f.close()\n",
        "    backend = default_backend()\n",
        "    cipher = Cipher(algorithms.AES(key), modes.CBC(iv), backend=backend)\n",
        "    decryptor = cipher.decryptor()\n",
        "    content=decryptor.update(content) + decryptor.finalize()\n",
        "    f=open(\"2d.txt\",\"wb\")\n",
        "    f.write(content)\n",
        "    f.close()"
      ],
      "metadata": {
        "id": "aAn3q-tyaHSA"
      },
      "execution_count": null,
      "outputs": []
    },
    {
      "cell_type": "code",
      "source": [
        "DAES(decryption_key_aes,decryption_iv_aes)"
      ],
      "metadata": {
        "id": "cn3VC50baMqC"
      },
      "execution_count": null,
      "outputs": []
    },
    {
      "cell_type": "code",
      "source": [
        "def DTrippleDES(key,iv):\n",
        "    f=open(\"3e.txt\",\"rb\")\n",
        "    content=f.read()\n",
        "    f.close()\n",
        "    backend = default_backend()\n",
        "    cipher = Cipher(algorithms.TripleDES(key), modes.CBC(iv), backend=backend)\n",
        "    decryptor = cipher.decryptor()\n",
        "    content=decryptor.update(content) + decryptor.finalize()\n",
        "    f=open(\"3d.txt\",\"wb\")\n",
        "    f.write(content)\n",
        "    f.close()"
      ],
      "metadata": {
        "id": "1ZhqQe3SaZ_f"
      },
      "execution_count": null,
      "outputs": []
    },
    {
      "cell_type": "code",
      "source": [
        "DTrippleDES(decryption_key_Tdes,decryption_iv_Tdes)"
      ],
      "metadata": {
        "id": "r3mTTjsjaduR"
      },
      "execution_count": null,
      "outputs": []
    },
    {
      "cell_type": "code",
      "source": [
        "def Merge():\n",
        "\tmainFile=open(\"final.txt\",\"w\")\n",
        "\tfor i in range(0,3):\n",
        "\t\tname=str(i+1)+\"d.txt\"\n",
        "\t\tf=open(name,\"r\")\n",
        "\t\tcont=f.read()\n",
        "\t\tprint('From Encrypted file - ',i,'->',cont)\n",
        "\t\tmainFile.write(cont)\n",
        "\t\tf.close()\n",
        "\tmainFile.close()"
      ],
      "metadata": {
        "id": "Bf96atpvarGq"
      },
      "execution_count": null,
      "outputs": []
    },
    {
      "cell_type": "code",
      "source": [
        "Merge()\n"
      ],
      "metadata": {
        "colab": {
          "base_uri": "https://localhost:8080/"
        },
        "id": "SG4sv2Kpas3a",
        "outputId": "f0dcd920-88de-4a68-b716-0d97b4699d7b"
      },
      "execution_count": null,
      "outputs": [
        {
          "output_type": "stream",
          "name": "stdout",
          "text": [
            "From Encrypted file -  0 -> Long Short-Term Memory (LSTM) networks are a type of recurrent neural network capable of learning order dependence in sequence prediction problems.\n",
            "\n",
            "This is a behavior required in complex problem domains like machine translation, speech recognition, and more.\n",
            "\n",
            "LSTMs are a complex area of deep learning. It can be hard to get your hands around what LSTMs are, and how terms like bidirectional and sequence-to-sequence relate to the field.\n",
            "\n",
            "In this post, you will get insight into LSTMs using the words of research scientists that developed the methods and applied them to new and important problems.\n",
            "\n",
            "There are few that are better at clearly and precisely articulating both the promise   \n",
            "From Encrypted file -  1 ->  of LSTMs and how they work than the experts that developed them.\n",
            "\n",
            "We will explore key questions in the field of LSTMs using quotes from the experts, and if you’re interested, you will be able to dive into the original papers from which the quotes were taken.\n",
            "\n",
            "Hence standard RNNs fail to learn in the presence of time lags greater than 5 – 10 discrete time steps between relevant input events and target signals. The vanishing error problem casts doubt on whether standard RNNs can indeed exhibit significant practical advantages over time window-based feedforward networks. A recent model, “Long Short-Term Memory” (LSTM), is not affected by this problem. LSTM can learn to bridge mi           \n",
            "From Encrypted file -  2 -> nimal time lags in excess of 1000 discrete time steps by enforcing constant error flow through “constant error carrousels” (CECs) within special units, called cells\n",
            "\n",
            "Unfortunately, the range of contextual information that standard RNNs can access is in practice quite limited. The problem is that the influence of a given input on the hidden layer, and therefore on the network output, either decays or blows up exponentially as it cycles around the network’s recurrent connections. This shortcoming … referred to in the literature as the vanishing gradient problem … Long Short-Term Memory (LSTM) is an RNN architecture specifically designed to address the vanishing gradient problem.\n",
            "\n"
          ]
        }
      ]
    }
  ]
}